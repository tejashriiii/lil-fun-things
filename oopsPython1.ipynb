{
  "nbformat": 4,
  "nbformat_minor": 0,
  "metadata": {
    "colab": {
      "provenance": []
    },
    "kernelspec": {
      "name": "python3",
      "display_name": "Python 3"
    },
    "language_info": {
      "name": "python"
    }
  },
  "cells": [
    {
      "cell_type": "code",
      "source": [
        "# 1.create a car class with attributes brand and model and create instances\n",
        "\n",
        "class Carr:\n",
        "  def __init__(self, brand, model):\n",
        "    self.brand = brand\n",
        "    self.model = model\n",
        "\n",
        "yourcar= Carr(\"tata\", \"nano\")\n",
        "print( yourcar.brand, yourcar.model)\n"
      ],
      "metadata": {
        "colab": {
          "base_uri": "https://localhost:8080/"
        },
        "id": "BX57hZ5BAI-R",
        "outputId": "2f3fc6e1-99ea-4af9-96a6-b6a1cfe9e400"
      },
      "execution_count": 34,
      "outputs": [
        {
          "output_type": "stream",
          "name": "stdout",
          "text": [
            "tata nano\n"
          ]
        }
      ]
    },
    {
      "cell_type": "code",
      "source": [
        "#  2. add methods to class that displays full name of car\n",
        "class Carrr:\n",
        "  def __init__(self, brand, model):\n",
        "    self.brand = brand\n",
        "    self.model = model\n",
        "\n",
        "  def fullname(self):\n",
        "    return f\"my cats brand is: '{self.brand}' and the model is: '{self.model}'\"\n",
        "\n",
        "mycar= Carrr(\"Porsche\", \"Taycan\")\n",
        "print(mycar.fullname())"
      ],
      "metadata": {
        "colab": {
          "base_uri": "https://localhost:8080/"
        },
        "id": "iPUEi2vXDJxe",
        "outputId": "ad3b9cee-6420-4039-ac35-292f88c2c85e"
      },
      "execution_count": 35,
      "outputs": [
        {
          "output_type": "stream",
          "name": "stdout",
          "text": [
            "my cats brand is: 'Porsche' and the model is: 'Taycan'\n"
          ]
        }
      ]
    },
    {
      "cell_type": "code",
      "source": [
        "# 3. Inheritance Create ElectricCar class and has attribute batterysize\n",
        "\n",
        "class ElectricCar(Carrr):\n",
        "  def __init__(self, brand, model, battery):\n",
        "    super().__init__(brand, model)\n",
        "    self.battery=battery\n",
        "\n",
        "  def fuel_type(self):\n",
        "    return \"electric.. light, electrons\"\n",
        "\n",
        "  def whichcar(self):\n",
        "      return(f\"the model is '{self.model}, of the brand '{self.brand}' which has battery size of '{self.battery}' \")\n",
        "\n",
        "teslacar= ElectricCar(\"tesla\",\"somesht\", 100)\n",
        "print(teslacar.brand, teslacar.model, teslacar.battery)\n",
        "print(teslacar.fullname())\n",
        "print(teslacar.whichcar())"
      ],
      "metadata": {
        "colab": {
          "base_uri": "https://localhost:8080/"
        },
        "id": "NL3lH2UOEz0-",
        "outputId": "ffae098c-7bdc-4418-8058-639e9daf3485"
      },
      "execution_count": 36,
      "outputs": [
        {
          "output_type": "stream",
          "name": "stdout",
          "text": [
            "tesla somesht 100\n",
            "my cats brand is: 'tesla' and the model is: 'somesht'\n",
            "the model is 'somesht, of the brand 'tesla' which has battery size of '100' \n"
          ]
        }
      ]
    },
    {
      "cell_type": "code",
      "source": [
        "# encapsulation :modify car class to encapsulate the brand var, making it private and provide getter method\n",
        "# having 2 _ for prefix will make that attribute private, only accessed within class\n",
        "class Car:\n",
        "  total_cars_made=0\n",
        "\n",
        "  def __init__(self, brand, model):\n",
        "    self.__brand = brand\n",
        "    self.model = model\n",
        "    Car.total_cars_made +=1\n",
        "\n",
        "  def fuel_type(self):\n",
        "    return \"petrol/liquid or cng/gas\"\n",
        "\n",
        "  def get_brand(self):\n",
        "    return self.__brand\n",
        "\n",
        "\n",
        "mycar= Car(\"Porsche\", \"Taycan\")\n",
        "print( mycar.get_brand(), mycar.model)\n",
        "yourcar= Car(\"tata\", \"nano\")\n",
        "print( yourcar.get_brand(), yourcar.model)\n"
      ],
      "metadata": {
        "colab": {
          "base_uri": "https://localhost:8080/"
        },
        "id": "A_PjEMAIZ0oO",
        "outputId": "2f8dae6f-44f9-49cf-fc79-aebd009c8a20"
      },
      "execution_count": 38,
      "outputs": [
        {
          "output_type": "stream",
          "name": "stdout",
          "text": [
            "Porsche Taycan\n",
            "tata nano\n"
          ]
        }
      ]
    },
    {
      "cell_type": "code",
      "source": [
        "#  polymorphism: demonstrate polymorphism by defining a method fuel_type in both car and electricCar classes, but with different behaviour\n",
        "# add same fuel_type in both classes\n",
        "print(\"your car is running on \",teslacar.fuel_type())\n",
        "print(\"my car is running on \" ,mycar.fuel_type())"
      ],
      "metadata": {
        "colab": {
          "base_uri": "https://localhost:8080/"
        },
        "id": "maMx8OHTi2he",
        "outputId": "0227c9a4-069e-4bc9-9e8e-27b22ba4581e"
      },
      "execution_count": 39,
      "outputs": [
        {
          "output_type": "stream",
          "name": "stdout",
          "text": [
            "your car is running on  electric.. light, electrons\n",
            "my car is running on  petrol/liquid or cng/gas\n"
          ]
        }
      ]
    },
    {
      "cell_type": "code",
      "source": [
        "# class variables, can be accessed directly by calling the class.variable\n",
        "print(Car.total_cars_made) # -> 2 viz mycar, yourcar"
      ],
      "metadata": {
        "colab": {
          "base_uri": "https://localhost:8080/"
        },
        "id": "qlLNeMPamLO7",
        "outputId": "d3a15a6a-4dde-4521-b857-7189895c3608"
      },
      "execution_count": 40,
      "outputs": [
        {
          "output_type": "stream",
          "name": "stdout",
          "text": [
            "2\n"
          ]
        }
      ]
    },
    {
      "cell_type": "code",
      "source": [],
      "metadata": {
        "id": "3tUrKVqjnk7i"
      },
      "execution_count": null,
      "outputs": []
    }
  ]
}