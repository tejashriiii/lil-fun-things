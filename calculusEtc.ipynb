{
  "nbformat": 4,
  "nbformat_minor": 0,
  "metadata": {
    "colab": {
      "provenance": []
    },
    "kernelspec": {
      "name": "python3",
      "display_name": "Python 3"
    },
    "language_info": {
      "name": "python"
    }
  },
  "cells": [
    {
      "cell_type": "code",
      "source": [
        "import sympy as sp\n",
        "from sympy import *"
      ],
      "metadata": {
        "id": "vZRrDNv6wYeW"
      },
      "execution_count": 1,
      "outputs": []
    },
    {
      "cell_type": "code",
      "source": [
        "# messing around ODEs example\n",
        "\n",
        "x, y, z = sp.symbols('x y z')\n",
        "f= x**5 +x**2-x*y**5\n",
        "print(f)\n",
        "fx= sp.diff(f,x)\n",
        "fx"
      ],
      "metadata": {
        "colab": {
          "base_uri": "https://localhost:8080/",
          "height": 75
        },
        "id": "u2RSTsrEwtjH",
        "outputId": "a6605b7f-92f7-49ec-b1bd-fe026926fa7d"
      },
      "execution_count": 2,
      "outputs": [
        {
          "output_type": "stream",
          "name": "stdout",
          "text": [
            "(x**5 + x**2 - x*y**5)/(3*y**2)\n"
          ]
        },
        {
          "output_type": "execute_result",
          "data": {
            "text/plain": [
              "(5*x**4 + 2*x - y**5)/(3*y**2)"
            ],
            "text/latex": "$\\displaystyle \\frac{5 x^{4} + 2 x - y^{5}}{3 y^{2}}$"
          },
          "metadata": {},
          "execution_count": 2
        }
      ]
    },
    {
      "cell_type": "code",
      "source": [
        "f=(y**3+7*y**5-8*y**3)/(y**3)\n",
        "fy= sp.diff(f,y)\n",
        "f"
      ],
      "metadata": {
        "colab": {
          "base_uri": "https://localhost:8080/",
          "height": 57
        },
        "id": "V51pkIkMw31Y",
        "outputId": "2960dc40-94f4-41bc-d2b5-3efecd1c7f87"
      },
      "execution_count": 3,
      "outputs": [
        {
          "output_type": "execute_result",
          "data": {
            "text/plain": [
              "(7*y**5 - 7*y**3)/y**3"
            ],
            "text/latex": "$\\displaystyle \\frac{7 y^{5} - 7 y^{3}}{y^{3}}$"
          },
          "metadata": {},
          "execution_count": 3
        }
      ]
    },
    {
      "cell_type": "code",
      "source": [
        "fy"
      ],
      "metadata": {
        "colab": {
          "base_uri": "https://localhost:8080/",
          "height": 59
        },
        "id": "W016PJ9tzGPj",
        "outputId": "7d226bed-bf5e-4501-a1ac-8ab828d09ec8"
      },
      "execution_count": 4,
      "outputs": [
        {
          "output_type": "execute_result",
          "data": {
            "text/plain": [
              "(35*y**4 - 21*y**2)/y**3 - 3*(7*y**5 - 7*y**3)/y**4"
            ],
            "text/latex": "$\\displaystyle \\frac{35 y^{4} - 21 y^{2}}{y^{3}} - \\frac{3 \\left(7 y^{5} - 7 y^{3}\\right)}{y^{4}}$"
          },
          "metadata": {},
          "execution_count": 4
        }
      ]
    },
    {
      "cell_type": "code",
      "source": [
        "# PDEs examplee:\n",
        "\n",
        "x, t = sp.symbols('x t')\n",
        "u = x**2 * t + sp.sin(x * t)"
      ],
      "metadata": {
        "id": "iuTz7-Lyz13a"
      },
      "execution_count": 5,
      "outputs": []
    },
    {
      "cell_type": "code",
      "source": [
        "dux = sp.diff(u, x)\n",
        "dut = sp.diff(u, t)\n",
        "dux , dut"
      ],
      "metadata": {
        "colab": {
          "base_uri": "https://localhost:8080/"
        },
        "id": "29PnUuMcHMN8",
        "outputId": "47adeae3-66ba-4e2d-ab8a-397cef535cd9"
      },
      "execution_count": 7,
      "outputs": [
        {
          "output_type": "execute_result",
          "data": {
            "text/plain": [
              "(2*t*x + t*cos(t*x), x**2 + x*cos(t*x))"
            ]
          },
          "metadata": {},
          "execution_count": 7
        }
      ]
    },
    {
      "cell_type": "code",
      "source": [
        "d2ux = sp.diff(u, x, 2)\n",
        "\n",
        "print( dux)\n",
        "print( dut)\n",
        "print(d2ux)"
      ],
      "metadata": {
        "colab": {
          "base_uri": "https://localhost:8080/"
        },
        "id": "dLYfI4xpHOr6",
        "outputId": "b7cef94b-4981-4787-da2d-e8ecb800da8d"
      },
      "execution_count": 8,
      "outputs": [
        {
          "output_type": "stream",
          "name": "stdout",
          "text": [
            "2*t*x + t*cos(t*x)\n",
            "x**2 + x*cos(t*x)\n",
            "t*(-t*sin(t*x) + 2)\n"
          ]
        }
      ]
    },
    {
      "cell_type": "code",
      "source": [],
      "metadata": {
        "id": "Gw4S6Fe4JCaV"
      },
      "execution_count": null,
      "outputs": []
    },
    {
      "cell_type": "code",
      "source": [
        "# 3x+1 paradox\n",
        "# 6-> 3 [3*3+1]->5 [5*3+1]->8->4->2->1\n",
        "# if even -> divide by 2\n",
        "# if odd -> 3x+1\n",
        "# final answer = 1.\n"
      ],
      "metadata": {
        "id": "VtCcRNMLJC2O"
      },
      "execution_count": 16,
      "outputs": []
    },
    {
      "cell_type": "code",
      "source": [
        "def paradoxshi(x):\n",
        "  steps = [x]\n",
        "  while x != 1:\n",
        "        if x % 2 == 0:\n",
        "            x = x // 2\n",
        "            print(f\"even {x*2} -> {x}\")\n",
        "        else:\n",
        "            x = 3 * x + 1\n",
        "            print(f\"odd {(x-1)//3} -> {x}\")\n",
        "        steps.append(x)\n",
        "  return steps\n",
        "\n",
        "num= 11\n",
        "result = paradoxshi(num)\n",
        "print(f\"the sequence for {num}:\", result)"
      ],
      "metadata": {
        "colab": {
          "base_uri": "https://localhost:8080/"
        },
        "id": "96qjfA74KXZG",
        "outputId": "ab208577-73ba-4890-9aff-d8a06d123b3c"
      },
      "execution_count": 36,
      "outputs": [
        {
          "output_type": "stream",
          "name": "stdout",
          "text": [
            "odd 11 -> 34\n",
            "even 34 -> 17\n",
            "odd 17 -> 52\n",
            "even 52 -> 26\n",
            "even 26 -> 13\n",
            "odd 13 -> 40\n",
            "even 40 -> 20\n",
            "even 20 -> 10\n",
            "even 10 -> 5\n",
            "odd 5 -> 16\n",
            "even 16 -> 8\n",
            "even 8 -> 4\n",
            "even 4 -> 2\n",
            "even 2 -> 1\n",
            "the sequence for 11: [11, 34, 17, 52, 26, 13, 40, 20, 10, 5, 16, 8, 4, 2, 1]\n"
          ]
        }
      ]
    },
    {
      "cell_type": "code",
      "source": [
        "import matplotlib.pyplot as plt\n",
        "# vizualize ?\n",
        "num = 19\n",
        "sequence = paradoxshi(num)\n",
        "plt.plot(range(len(sequence)), sequence, marker='o')\n",
        "plt.title(f\"Collatz Sequence for {num}\")\n",
        "plt.xlabel(\"Step\")\n",
        "plt.ylabel(\"Value\")\n",
        "plt.grid(True)\n",
        "plt.show()"
      ],
      "metadata": {
        "colab": {
          "base_uri": "https://localhost:8080/",
          "height": 819
        },
        "id": "MVDPk9ziLJW2",
        "outputId": "1f451c6b-020a-4163-aa32-a6ed90c20054"
      },
      "execution_count": 39,
      "outputs": [
        {
          "output_type": "stream",
          "name": "stdout",
          "text": [
            "odd 19 -> 58\n",
            "even 58 -> 29\n",
            "odd 29 -> 88\n",
            "even 88 -> 44\n",
            "even 44 -> 22\n",
            "even 22 -> 11\n",
            "odd 11 -> 34\n",
            "even 34 -> 17\n",
            "odd 17 -> 52\n",
            "even 52 -> 26\n",
            "even 26 -> 13\n",
            "odd 13 -> 40\n",
            "even 40 -> 20\n",
            "even 20 -> 10\n",
            "even 10 -> 5\n",
            "odd 5 -> 16\n",
            "even 16 -> 8\n",
            "even 8 -> 4\n",
            "even 4 -> 2\n",
            "even 2 -> 1\n"
          ]
        },
        {
          "output_type": "display_data",
          "data": {
            "text/plain": [
              "<Figure size 640x480 with 1 Axes>"
            ],
            "image/png": "[encoded data removed]"
          },
          "metadata": {}
        }
      ]
    },
    {
      "cell_type": "code",
      "source": [
        "13+31"
      ],
      "metadata": {
        "colab": {
          "base_uri": "https://localhost:8080/"
        },
        "id": "37wE5LgJLgoP",
        "outputId": "458d1d7d-1e72-4875-b81c-c048b26d1ab4"
      },
      "execution_count": 40,
      "outputs": [
        {
          "output_type": "execute_result",
          "data": {
            "text/plain": [
              "44"
            ]
          },
          "metadata": {},
          "execution_count": 40
        }
      ]
    },
    {
      "cell_type": "code",
      "source": [
        "7289+9827"
      ],
      "metadata": {
        "colab": {
          "base_uri": "https://localhost:8080/"
        },
        "id": "zhtawFxENsHU",
        "outputId": "7c4c6ef9-80be-4a50-b640-008fd75fe537"
      },
      "execution_count": 43,
      "outputs": [
        {
          "output_type": "execute_result",
          "data": {
            "text/plain": [
              "17116"
            ]
          },
          "metadata": {},
          "execution_count": 43
        }
      ]
    }
  ]
}