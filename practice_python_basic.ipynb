{
  "nbformat": 4,
  "nbformat_minor": 0,
  "metadata": {
    "colab": {
      "provenance": []
    },
    "kernelspec": {
      "name": "python3",
      "display_name": "Python 3"
    },
    "language_info": {
      "name": "python"
    }
  },
  "cells": [
    {
      "cell_type": "code",
      "source": [
        "# how many are positive?\n",
        "\n",
        "arr=[1,3,-2,3,-4,6,-12,3,3,33,-54,32,23,32,0,-3,-6,0,-8]\n",
        "positvies=0\n",
        "negatives=0\n",
        "for i in arr:\n",
        "  if i>=0:\n",
        "    positvies +=1\n",
        "  else:\n",
        "    negatives +=1\n",
        "\n",
        "print(positvies, negatives)"
      ],
      "metadata": {
        "colab": {
          "base_uri": "https://localhost:8080/"
        },
        "id": "ZdC6pOdUJ51B",
        "outputId": "adb8cccc-159a-4fc3-d7bb-4bdf39e2fb64"
      },
      "execution_count": 1,
      "outputs": [
        {
          "output_type": "stream",
          "name": "stdout",
          "text": [
            "12 7\n"
          ]
        }
      ]
    },
    {
      "cell_type": "code",
      "source": [
        "# sum of even nos uptil n\n",
        "\n",
        "n= int(input('give a small no'))\n",
        "\n",
        "sumOfEven=0\n",
        "\n",
        "for i in range(n):\n",
        "  if i %2==0:\n",
        "    sumOfEven=sumOfEven+i\n",
        "\n",
        "print(sumOfEven)"
      ],
      "metadata": {
        "colab": {
          "base_uri": "https://localhost:8080/"
        },
        "id": "TflXftw_Li7x",
        "outputId": "75046a65-8f92-486a-dafe-9dbaf076c852"
      },
      "execution_count": 2,
      "outputs": [
        {
          "output_type": "stream",
          "name": "stdout",
          "text": [
            "give a small no11\n",
            "30\n"
          ]
        }
      ]
    },
    {
      "cell_type": "code",
      "source": [
        "for i in range(3):\n",
        "  print(i)\n",
        "\n",
        "r= range(3)\n",
        "print(r)\n",
        "\n",
        "iter(r) is r"
      ],
      "metadata": {
        "colab": {
          "base_uri": "https://localhost:8080/"
        },
        "id": "Jpbl7SG1zFxc",
        "outputId": "cf222ab4-d3bf-4705-a60e-0c9ca083a301"
      },
      "execution_count": 3,
      "outputs": [
        {
          "output_type": "stream",
          "name": "stdout",
          "text": [
            "0\n",
            "1\n",
            "2\n",
            "range(0, 3)\n"
          ]
        },
        {
          "output_type": "execute_result",
          "data": {
            "text/plain": [
              "False"
            ]
          },
          "metadata": {},
          "execution_count": 3
        }
      ]
    },
    {
      "cell_type": "code",
      "source": [
        "age= int(input(\"whats your age?\"))\n",
        "\n",
        "def theage(age):\n",
        "  if age<13:\n",
        "    print('youre a child, fkn child, get off this app')\n",
        "  elif 13<age<19:\n",
        "    print('i must assume a teenage such as yourself having such tone.')\n",
        "  elif 19<age<59:\n",
        "    print('so? whats your pay as an adult?')\n",
        "  elif 59<age<150:\n",
        "    print('youre a senior, plus how are you alive this long?')\n",
        "  else:\n",
        "    print('thats not a fucking age number you idiot')\n",
        "\n",
        "theage(age)"
      ],
      "metadata": {
        "colab": {
          "base_uri": "https://localhost:8080/"
        },
        "id": "m805jH7cOQW4",
        "outputId": "5aea7846-16df-492c-da1c-285454389a55"
      },
      "execution_count": 5,
      "outputs": [
        {
          "output_type": "stream",
          "name": "stdout",
          "text": [
            "whats your age?23\n",
            "so? whats your pay as an adult?\n"
          ]
        }
      ]
    },
    {
      "cell_type": "code",
      "source": [
        "import math\n",
        "pi=math.pi\n",
        "\n",
        "def radiusCalc(rad):\n",
        "  curcmf= 2*pi*rad\n",
        "  area= pi*rad**2\n",
        "  return curcmf, area\n",
        "\n",
        "radiusCalc(int(input('enter')))"
      ],
      "metadata": {
        "id": "gh0rFgTJMCcq",
        "colab": {
          "base_uri": "https://localhost:8080/"
        },
        "outputId": "91dc6449-1b75-4575-9905-a217a64788e2"
      },
      "execution_count": 6,
      "outputs": [
        {
          "name": "stdout",
          "output_type": "stream",
          "text": [
            "enter5\n"
          ]
        },
        {
          "output_type": "execute_result",
          "data": {
            "text/plain": [
              "(31.41592653589793, 78.53981633974483)"
            ]
          },
          "metadata": {},
          "execution_count": 6
        }
      ]
    },
    {
      "cell_type": "code",
      "source": [
        "# if you dont want to use a function a lot of times, you make lambda or anon function.\n",
        "\n",
        "# variable = lambda parameters: working\n",
        "# print(variable())\n",
        "# ok???\n",
        "cube = lambda x: x**3\n",
        "cube(2)\n"
      ],
      "metadata": {
        "colab": {
          "base_uri": "https://localhost:8080/"
        },
        "id": "b-HxngPv1Vhf",
        "outputId": "6e898588-c4e6-460e-f68c-d8dab03b5ff6"
      },
      "execution_count": 7,
      "outputs": [
        {
          "output_type": "execute_result",
          "data": {
            "text/plain": [
              "8"
            ]
          },
          "metadata": {},
          "execution_count": 7
        }
      ]
    },
    {
      "cell_type": "code",
      "source": [
        "anothercube= cube(3)\n",
        "anothercube"
      ],
      "metadata": {
        "colab": {
          "base_uri": "https://localhost:8080/"
        },
        "id": "RfaHdaZQ27WC",
        "outputId": "cff49fea-15dc-487e-c237-ce32fd16fbf0"
      },
      "execution_count": 8,
      "outputs": [
        {
          "output_type": "execute_result",
          "data": {
            "text/plain": [
              "27"
            ]
          },
          "metadata": {},
          "execution_count": 8
        }
      ]
    },
    {
      "cell_type": "code",
      "source": [
        "f = lambda x: x if x > 0 else -x\n",
        "f(-3)"
      ],
      "metadata": {
        "colab": {
          "base_uri": "https://localhost:8080/"
        },
        "id": "WikmkVMI3bFd",
        "outputId": "2f81173e-beb7-4d9b-fae4-49ac984352fc"
      },
      "execution_count": 9,
      "outputs": [
        {
          "output_type": "execute_result",
          "data": {
            "text/plain": [
              "3"
            ]
          },
          "metadata": {},
          "execution_count": 9
        }
      ]
    },
    {
      "cell_type": "code",
      "source": [
        "# have *args as param for function to handle multiple inputs from user for one function\n",
        "# and use **kwargs for handeling key value pair"
      ],
      "metadata": {
        "id": "N_RL3Xjf4HhG"
      },
      "execution_count": 10,
      "outputs": []
    },
    {
      "cell_type": "code",
      "source": [
        "def even_no(limit):\n",
        "  for i in range(2,limit+1,2):\n",
        "    yield i\n",
        "# this yield keeps track of the function and its state, in the memory.\n",
        "\n",
        "for num in even_no(10):\n",
        "  print(num)"
      ],
      "metadata": {
        "colab": {
          "base_uri": "https://localhost:8080/"
        },
        "id": "Qi5-zRgt7QzU",
        "outputId": "9ff953af-19e0-4864-b099-2ad2690350b2"
      },
      "execution_count": 11,
      "outputs": [
        {
          "output_type": "stream",
          "name": "stdout",
          "text": [
            "2\n",
            "4\n",
            "6\n",
            "8\n",
            "10\n"
          ]
        }
      ]
    },
    {
      "cell_type": "code",
      "source": [
        "def factorial(n):\n",
        "  if n==0:\n",
        "    return 1\n",
        "  else:\n",
        "    return n * factorial(n-1)\n",
        "\n",
        "\n",
        "factorial(4)\n",
        "\n",
        "\n",
        "# reccursionn yayya, justt calculate the fact that whereee exactly you want to breake the loop. where you want to give it a stop. give that."
      ],
      "metadata": {
        "colab": {
          "base_uri": "https://localhost:8080/"
        },
        "id": "uwuC-Wnn7pGt",
        "outputId": "e85aa432-92d0-4d8e-9f1d-f8e12b8f1ad2"
      },
      "execution_count": 12,
      "outputs": [
        {
          "output_type": "execute_result",
          "data": {
            "text/plain": [
              "24"
            ]
          },
          "metadata": {},
          "execution_count": 12
        }
      ]
    },
    {
      "cell_type": "code",
      "source": [
        "# bag theory, closure, scope"
      ],
      "metadata": {
        "id": "z0N7Fb4y9Gar"
      },
      "execution_count": 13,
      "outputs": []
    },
    {
      "cell_type": "code",
      "source": [],
      "metadata": {
        "id": "c6Xw_5ay9iNm"
      },
      "execution_count": null,
      "outputs": []
    }
  ]
}