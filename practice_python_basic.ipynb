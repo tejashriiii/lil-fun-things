{
  "nbformat": 4,
  "nbformat_minor": 0,
  "metadata": {
    "colab": {
      "provenance": []
    },
    "kernelspec": {
      "name": "python3",
      "display_name": "Python 3"
    },
    "language_info": {
      "name": "python"
    }
  },
  "cells": [
    {
      "cell_type": "code",
      "source": [
        "# how many are positive?\n",
        "\n",
        "arr=[1,3,-2,3,-4,6,-12,3,3,33,-54,32,23,32,0,-3,-6,0,-8]\n",
        "positvies=0\n",
        "negatives=0\n",
        "for i in arr:\n",
        "  if i>=0:\n",
        "    positvies +=1\n",
        "  else:\n",
        "    negatives +=1\n",
        "\n",
        "print(positvies, negatives)"
      ],
      "metadata": {
        "colab": {
          "base_uri": "https://localhost:8080/"
        },
        "id": "ZdC6pOdUJ51B",
        "outputId": "6dd0409e-9269-4070-a5cd-97cd46539e9e"
      },
      "execution_count": null,
      "outputs": [
        {
          "output_type": "stream",
          "name": "stdout",
          "text": [
            "12 7\n"
          ]
        }
      ]
    },
    {
      "cell_type": "code",
      "source": [
        "# sum of even nos uptil n\n",
        "\n",
        "n= int(input('give a small no'))\n",
        "\n",
        "sumOfEven=0\n",
        "\n",
        "for i in range(n):\n",
        "  if i %2==0:\n",
        "    sumOfEven=sumOfEven+i\n",
        "\n",
        "print(sumOfEven)"
      ],
      "metadata": {
        "colab": {
          "base_uri": "https://localhost:8080/"
        },
        "id": "TflXftw_Li7x",
        "outputId": "0feb8f05-e351-44c8-b4e3-2e018b5afef8"
      },
      "execution_count": null,
      "outputs": [
        {
          "output_type": "stream",
          "name": "stdout",
          "text": [
            "give a small no7\n",
            "12\n"
          ]
        }
      ]
    },
    {
      "cell_type": "code",
      "source": [
        "for i in range(3):\n",
        "  print(i)\n",
        "\n",
        "r= range(3)\n",
        "print(r)\n",
        "\n",
        "iter(r) is r"
      ],
      "metadata": {
        "colab": {
          "base_uri": "https://localhost:8080/"
        },
        "id": "Jpbl7SG1zFxc",
        "outputId": "f317f72b-8c8f-44f7-eb06-d2909df48094"
      },
      "execution_count": null,
      "outputs": [
        {
          "output_type": "stream",
          "name": "stdout",
          "text": [
            "0\n",
            "1\n",
            "2\n",
            "range(0, 3)\n"
          ]
        },
        {
          "output_type": "execute_result",
          "data": {
            "text/plain": [
              "False"
            ]
          },
          "metadata": {},
          "execution_count": 2
        }
      ]
    },
    {
      "cell_type": "code",
      "source": [
        "age= int(input(\"whats your age?\"))\n",
        "\n",
        "def theage(age):\n",
        "  if age<13:\n",
        "    print('youre a child, fkn child, get off this app')\n",
        "  elif 13<age<19:\n",
        "    print('i must assume a teenage such as yourself having such tone.')\n",
        "  elif 19<age<59:\n",
        "    print('so? whats your pay as an adult?')\n",
        "  elif 59<age<150:\n",
        "    print('youre a senior, plus how are you alive this long?')\n",
        "  else:\n",
        "    print('thats not a fucking age number you idiot')\n",
        "\n",
        "theage(age)"
      ],
      "metadata": {
        "colab": {
          "base_uri": "https://localhost:8080/"
        },
        "id": "m805jH7cOQW4",
        "outputId": "1973a90f-01dc-431d-f7c8-7f7e03774424"
      },
      "execution_count": null,
      "outputs": [
        {
          "output_type": "stream",
          "name": "stdout",
          "text": [
            "whats your age?3\n",
            "youre a child, fkn child, get off this app\n"
          ]
        }
      ]
    },
    {
      "cell_type": "code",
      "source": [
        "import math\n",
        "pi=math.pi\n",
        "\n",
        "def radiusCalc(rad):\n",
        "  curcmf= 2*pi*rad\n",
        "  area= pi*rad**2\n",
        "  return curcmf, area\n",
        "\n",
        "radiusCalc(int(input('enter')))"
      ],
      "metadata": {
        "id": "gh0rFgTJMCcq",
        "colab": {
          "base_uri": "https://localhost:8080/"
        },
        "outputId": "0126b889-d90d-4b94-ce72-649e080503a4"
      },
      "execution_count": null,
      "outputs": [
        {
          "name": "stdout",
          "output_type": "stream",
          "text": [
            "enter3\n"
          ]
        },
        {
          "output_type": "execute_result",
          "data": {
            "text/plain": [
              "(18.84955592153876, 28.274333882308138)"
            ]
          },
          "metadata": {},
          "execution_count": 27
        }
      ]
    },
    {
      "cell_type": "code",
      "source": [
        "# if you dont want to use a function a lot of times, you make lambda or anon function.\n",
        "\n",
        "# variable = lambda parameters: working\n",
        "# print(variable())\n",
        "# ok???\n",
        "cube = lambda x: x**3\n",
        "cube(2)\n"
      ],
      "metadata": {
        "colab": {
          "base_uri": "https://localhost:8080/"
        },
        "id": "b-HxngPv1Vhf",
        "outputId": "6668ed36-335b-4359-b5ce-ffc60248ac41"
      },
      "execution_count": null,
      "outputs": [
        {
          "output_type": "execute_result",
          "data": {
            "text/plain": [
              "8"
            ]
          },
          "metadata": {},
          "execution_count": 10
        }
      ]
    },
    {
      "cell_type": "code",
      "source": [
        "anothercube= cube(3)\n",
        "anothercube"
      ],
      "metadata": {
        "colab": {
          "base_uri": "https://localhost:8080/"
        },
        "id": "RfaHdaZQ27WC",
        "outputId": "bdaf5e64-0c9e-4a04-fd04-ec9102e267a2"
      },
      "execution_count": null,
      "outputs": [
        {
          "output_type": "execute_result",
          "data": {
            "text/plain": [
              "27"
            ]
          },
          "metadata": {},
          "execution_count": 17
        }
      ]
    },
    {
      "cell_type": "code",
      "source": [
        "f = lambda x: x if x > 0 else -x\n",
        "f(-3)"
      ],
      "metadata": {
        "colab": {
          "base_uri": "https://localhost:8080/"
        },
        "id": "WikmkVMI3bFd",
        "outputId": "6def6ad3-35d3-46ea-b7c4-7566daa5bb5b"
      },
      "execution_count": null,
      "outputs": [
        {
          "output_type": "execute_result",
          "data": {
            "text/plain": [
              "3"
            ]
          },
          "metadata": {},
          "execution_count": 22
        }
      ]
    },
    {
      "cell_type": "code",
      "source": [
        "# have *args as param for function to handle multiple inputs from user for one function\n",
        "# and use **kwargs for handeling key value pair"
      ],
      "metadata": {
        "id": "N_RL3Xjf4HhG"
      },
      "execution_count": null,
      "outputs": []
    },
    {
      "cell_type": "code",
      "source": [
        "def even_no(limit):\n",
        "  for i in range(2,limit+1,2):\n",
        "    yield i\n",
        "# this yield keeps track of the function and its state, in the memory.\n",
        "\n",
        "for num in even_no(10):\n",
        "  print(num)"
      ],
      "metadata": {
        "colab": {
          "base_uri": "https://localhost:8080/"
        },
        "id": "Qi5-zRgt7QzU",
        "outputId": "710b23fa-6ee3-4656-a730-4c7be1b4b18f"
      },
      "execution_count": null,
      "outputs": [
        {
          "output_type": "stream",
          "name": "stdout",
          "text": [
            "2\n",
            "4\n",
            "6\n",
            "8\n",
            "10\n"
          ]
        }
      ]
    },
    {
      "cell_type": "code",
      "source": [
        "def factorial(n):\n",
        "  if n==0:\n",
        "    return 1\n",
        "  else:\n",
        "    return n * factorial(n-1)\n",
        "\n",
        "\n",
        "factorial(4)\n",
        "\n",
        "\n",
        "# reccursionn yayya, justt calculate the fact that whereee exactly you want to breake the loop. where you want to give it a stop. give that."
      ],
      "metadata": {
        "colab": {
          "base_uri": "https://localhost:8080/"
        },
        "id": "uwuC-Wnn7pGt",
        "outputId": "77dcae9b-5c38-458d-96ab-9076443d5d57"
      },
      "execution_count": null,
      "outputs": [
        {
          "output_type": "execute_result",
          "data": {
            "text/plain": [
              "24"
            ]
          },
          "metadata": {},
          "execution_count": 37
        }
      ]
    },
    {
      "cell_type": "code",
      "source": [
        "# bag theory, closure, scope"
      ],
      "metadata": {
        "id": "z0N7Fb4y9Gar"
      },
      "execution_count": null,
      "outputs": []
    }
  ]
}